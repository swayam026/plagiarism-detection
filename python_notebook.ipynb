{
  "nbformat": 4,
  "nbformat_minor": 0,
  "metadata": {
    "colab": {
      "provenance": []
    },
    "kernelspec": {
      "name": "python3",
      "display_name": "Python 3"
    },
    "language_info": {
      "name": "python"
    }
  },
  "cells": [
    {
      "cell_type": "code",
      "source": [
        "import pandas as pd\n",
        "from sklearn.feature_extraction.text import TfidfVectorizer\n",
        "from sklearn.metrics.pairwise import cosine_similarity\n",
        "from sklearn.metrics import accuracy_score"
      ],
      "metadata": {
        "id": "kFNzBNBviIQo"
      },
      "execution_count": null,
      "outputs": []
    },
    {
      "cell_type": "code",
      "source": [
        "txt_filename = 'plagiarism_data.txt'  # your uploaded txt file\n",
        "csv_filename = 'plagiarism_data.csv'  # we'll save it as this"
      ],
      "metadata": {
        "id": "oCDZxhsFiSzh"
      },
      "execution_count": null,
      "outputs": []
    },
    {
      "cell_type": "code",
      "source": [
        "data = []\n",
        "with open(txt_filename, 'r') as f:\n",
        "    for line in f:\n",
        "        parts = line.strip().split('\\t')\n",
        "        if len(parts) == 3:\n",
        "            data.append(parts)"
      ],
      "metadata": {
        "id": "qGTdBTtkiW_c"
      },
      "execution_count": null,
      "outputs": []
    },
    {
      "cell_type": "code",
      "source": [
        "# Save as CSV\n",
        "df = pd.DataFrame(data, columns=[\"sentence1\", \"sentence2\", \"label\"])\n",
        "df.to_csv(csv_filename, index=False)\n",
        "print(f\"✅ Converted '{txt_filename}' to '{csv_filename}'\")"
      ],
      "metadata": {
        "colab": {
          "base_uri": "https://localhost:8080/"
        },
        "id": "2lINvYZliaxM",
        "outputId": "104813c1-823e-470b-ca83-1c2266f516fb"
      },
      "execution_count": null,
      "outputs": [
        {
          "output_type": "stream",
          "name": "stdout",
          "text": [
            "✅ Converted 'plagiarism_data.txt' to 'plagiarism_data.csv'\n"
          ]
        }
      ]
    },
    {
      "cell_type": "code",
      "source": [
        "df = pd.read_csv(csv_filename)\n",
        "df['label'] = df['label'].astype(int)  # make sure label is int\n"
      ],
      "metadata": {
        "id": "vwOUA2Pcif7D"
      },
      "execution_count": null,
      "outputs": []
    },
    {
      "cell_type": "code",
      "source": [
        "def jaccard_similarity(s1, s2):\n",
        "    set1 = set(str(s1).lower().split())\n",
        "    set2 = set(str(s2).lower().split())\n",
        "    intersection = set1 & set2\n",
        "    union = set1 | set2\n",
        "    return len(intersection) / len(union) if union else 0"
      ],
      "metadata": {
        "id": "_MrYYGtkilZE"
      },
      "execution_count": null,
      "outputs": []
    },
    {
      "cell_type": "code",
      "source": [
        "df['jaccard_score'] = df.apply(lambda row: jaccard_similarity(row['sentence1'], row['sentence2']), axis=1)\n",
        "df['jaccard_pred'] = df['jaccard_score'].apply(lambda x: 1 if x >= 0.3 else 0)  # threshold = 0.3\n"
      ],
      "metadata": {
        "id": "OOw1cf37ippc"
      },
      "execution_count": null,
      "outputs": []
    },
    {
      "cell_type": "code",
      "source": [
        "# Drop any rows with NaNs\n",
        "df = df.dropna(subset=[\"sentence1\", \"sentence2\", \"label\"])\n",
        "\n",
        "# Rebuild TF-IDF matrix\n",
        "all_sentences = pd.concat([df['sentence1'], df['sentence2']], ignore_index=True)\n",
        "tfidf = TfidfVectorizer()\n",
        "tfidf_matrix = tfidf.fit_transform(all_sentences)"
      ],
      "metadata": {
        "id": "xhgvVP5Wi-uO"
      },
      "execution_count": null,
      "outputs": []
    },
    {
      "cell_type": "code",
      "source": [
        "cosine_preds = []\n",
        "for i in range(len(df)):\n",
        "    vec1 = tfidf_matrix[i]\n",
        "    vec2 = tfidf_matrix[i + len(df)]\n",
        "    score = cosine_similarity(vec1, vec2)[0][0]\n",
        "    cosine_preds.append((score, 1 if score >= 0.5 else 0))  # threshold = 0.5"
      ],
      "metadata": {
        "id": "lf76RER5jHsi"
      },
      "execution_count": null,
      "outputs": []
    },
    {
      "cell_type": "code",
      "source": [
        "df['cosine_score'] = [score for score, pred in cosine_preds]\n",
        "df['cosine_pred'] = [pred for score, pred in cosine_preds]"
      ],
      "metadata": {
        "id": "Q77QknmxkYH0"
      },
      "execution_count": null,
      "outputs": []
    },
    {
      "cell_type": "code",
      "source": [
        "print(\"\\n📊 Accuracy Scores:\")\n",
        "print(\"✅ Jaccard Accuracy:\", accuracy_score(df['label'], df['jaccard_pred']))\n",
        "print(\"✅ Cosine Accuracy:\", accuracy_score(df['label'], df['cosine_pred']))"
      ],
      "metadata": {
        "colab": {
          "base_uri": "https://localhost:8080/"
        },
        "id": "xygv1dTkkdye",
        "outputId": "a59d9129-276a-4f52-8e58-0a19bda57897"
      },
      "execution_count": null,
      "outputs": [
        {
          "output_type": "stream",
          "name": "stdout",
          "text": [
            "\n",
            "📊 Accuracy Scores:\n",
            "✅ Jaccard Accuracy: 0.5795780264529669\n",
            "✅ Cosine Accuracy: 0.5975599465387662\n"
          ]
        }
      ]
    },
    {
      "cell_type": "code",
      "source": [
        "pd.set_option('display.max_colwidth', None)  # Show full sentence text\n",
        "\n",
        "# ✅ Show a random sample of 10 rows from the results\n",
        "print(\"\\n🔍 Random Sample Prediction Table (10 rows):\")\n",
        "print(df[['sentence1', 'sentence2', 'label', 'jaccard_score', 'jaccard_pred', 'cosine_score', 'cosine_pred']].sample(10, random_state=42))"
      ],
      "metadata": {
        "colab": {
          "base_uri": "https://localhost:8080/"
        },
        "id": "WFEZpnnIlf44",
        "outputId": "cb3539b7-16e9-45f4-9320-793ffaecf89b"
      },
      "execution_count": null,
      "outputs": [
        {
          "output_type": "stream",
          "name": "stdout",
          "text": [
            "\n",
            "🔍 Random Sample Prediction Table (10 rows):\n",
            "                                                                                                               sentence1  \\\n",
            "2113                                                                      A man in a blue shirt walking down the street.   \n",
            "69090                                                         Several women wearing bright dresses are in a competition.   \n",
            "4202                                                                                       People are gathered at a bar.   \n",
            "194635         There is a man with a gray shirt on his speed boat who caught a big fish, and has started to cut it open.   \n",
            "262438                          girl with pink mohawk sitting in front of computer accompanied by two other individuals.   \n",
            "91518            a child and a young adult the adult is maybe demonstrating how to do something to teach the young child   \n",
            "259137                                A businessman holds an umbrella over himself while the street is filled with rain.   \n",
            "312905  A man in a yellow patterned shirt and a woman in a gray hooded sweatshirt are walking along a construction zone.   \n",
            "58125                                                           A woman appears to be struggling from lifting an object.   \n",
            "237530                                     A woman is staring outside to a man in a gray jacket not looking back at her.   \n",
            "\n",
            "                                                                                                sentence2  \\\n",
            "2113                                                                            A man is walking outside.   \n",
            "69090                                               Several women are dressed similarly in a competition.   \n",
            "4202                                                                         There are people in the bar.   \n",
            "194635                                                                      There is a boat on the water.   \n",
            "262438                                                                     Someone here has unusual hair.   \n",
            "91518                                                                           The young adult is alone.   \n",
            "259137                                                          A man is standing inside out of the rain.   \n",
            "312905  A man wearing a construction worker vest is redirecting the traffic to avaoid a construction zone   \n",
            "58125                                                             A WOMAN PICKING UP A FEATHER WITH EASE.   \n",
            "237530                                                                     A woman is outside looking in.   \n",
            "\n",
            "        label  jaccard_score  jaccard_pred  cosine_score  cosine_pred  \n",
            "2113        1       0.272727             0      0.354386            0  \n",
            "69090       1       0.545455             1      0.508520            1  \n",
            "4202        1       0.333333             1      0.596043            1  \n",
            "194635      1       0.208333             0      0.257997            0  \n",
            "262438      1       0.000000             0      0.000000            0  \n",
            "91518       0       0.266667             0      0.446268            0  \n",
            "259137      1       0.210526             0      0.238691            0  \n",
            "312905      0       0.115385             0      0.265531            0  \n",
            "58125       0       0.133333             0      0.026662            0  \n",
            "237530      0       0.312500             1      0.443082            0  \n"
          ]
        }
      ]
    },
    {
      "cell_type": "code",
      "source": [
        "df.to_csv(\"plagiarism_analysis_results.csv\", index=False)\n",
        "print(\"\\n📁 Saved detailed results to 'plagiarism_analysis_results.csv'\")"
      ],
      "metadata": {
        "colab": {
          "base_uri": "https://localhost:8080/"
        },
        "id": "8AqX8MmPmKNz",
        "outputId": "e827335d-602b-4b5d-e6b2-ac8c0b229e96"
      },
      "execution_count": null,
      "outputs": [
        {
          "output_type": "stream",
          "name": "stdout",
          "text": [
            "\n",
            "📁 Saved detailed results to 'plagiarism_analysis_results.csv'\n"
          ]
        }
      ]
    }
  ]
}